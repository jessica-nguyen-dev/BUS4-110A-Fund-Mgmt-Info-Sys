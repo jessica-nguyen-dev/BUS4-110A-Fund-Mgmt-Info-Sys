{
  "cells": [
    {
      "cell_type": "markdown",
      "metadata": {
        "id": "view-in-github",
        "colab_type": "text"
      },
      "source": [
        "<a href=\"https://colab.research.google.com/github/jessica-nguyen-dev/BUS4-110A-Fund-Mgmt-Info-Sys/blob/main/05_HW8.ipynb\" target=\"_parent\"><img src=\"https://colab.research.google.com/assets/colab-badge.svg\" alt=\"Open In Colab\"/></a>"
      ]
    },
    {
      "cell_type": "markdown",
      "id": "77ba540a-91e6-4631-aa87-e00f811c1557",
      "metadata": {
        "id": "77ba540a-91e6-4631-aa87-e00f811c1557"
      },
      "source": [
        "**Q1** Implement the function `list_to_set(nums)`. It should\\\n",
        "take a list of integers and return a set containing the\\\n",
        "unique elements from the list. The order the elements appear\\\n",
        "in the set does not matter."
      ]
    },
    {
      "cell_type": "code",
      "execution_count": null,
      "id": "7e096e9a-a0e7-485f-ab48-d0c49708a546",
      "metadata": {
        "colab": {
          "base_uri": "https://localhost:8080/"
        },
        "id": "7e096e9a-a0e7-485f-ab48-d0c49708a546",
        "outputId": "9db40946-cb7a-4ba2-bc2e-4a133864d9ef"
      },
      "outputs": [
        {
          "output_type": "stream",
          "name": "stdout",
          "text": [
            "{1, 2, 3, 4, 5}\n",
            "{1, 2, 3}\n",
            "{1, 2, 3, 4, 5}\n"
          ]
        }
      ],
      "source": [
        "#your code here\n",
        "def list_to_set(nums):\n",
        "  my_set = set(nums)\n",
        "  return my_set\n",
        "\n",
        "# do not modify below this line\n",
        "print(list_to_set([1, 2, 3, 4, 5]))\n",
        "print(list_to_set([1, 1, 2, 2, 3, 3]))\n",
        "print(list_to_set([1, 2, 3, 4, 5, 5, 5, 3, 4, 5]))\n"
      ]
    },
    {
      "cell_type": "markdown",
      "id": "9a9f8a3b-57d8-40f5-9796-c45a2c991b8c",
      "metadata": {
        "id": "9a9f8a3b-57d8-40f5-9796-c45a2c991b8c"
      },
      "source": [
        "**Q2** Implement the function `count_unique_words(words)` which\\\n",
        "accepts a list of strings words and returns the number of unique\\\n",
        "words in the list. It's possible the list may be empty, in which\\\n",
        "case the function should return `0`.\n",
        "\n",
        "Hint: You can call the `len()` function on a set to get the number\\\n",
        "of elements in the set."
      ]
    },
    {
      "cell_type": "code",
      "execution_count": null,
      "id": "4e6ad084-76ac-4646-9b16-f33dc59c9d74",
      "metadata": {
        "colab": {
          "base_uri": "https://localhost:8080/"
        },
        "id": "4e6ad084-76ac-4646-9b16-f33dc59c9d74",
        "outputId": "c0f34d1c-9936-4503-8065-f9a1192aca04"
      },
      "outputs": [
        {
          "output_type": "stream",
          "name": "stdout",
          "text": [
            "3\n",
            "4\n",
            "1\n",
            "0\n"
          ]
        }
      ],
      "source": [
        "#your code here\n",
        "def count_unique_words(words):\n",
        "  list_to_set = set(words)\n",
        "  set_length = len(list_to_set)\n",
        "\n",
        "  if set_length > 0:\n",
        "    return set_length\n",
        "  else:\n",
        "    return 0\n",
        "\n",
        "# do not modify code below this line\n",
        "print(count_unique_words([\"hello\", \"world\", \"hello\", \"goodbye\"]))\n",
        "print(count_unique_words([\"hello\", \"world\", \"i\", \"am\", \"world\"]))\n",
        "print(count_unique_words([\"hello\", \"hello\", \"hello\"]))\n",
        "print(count_unique_words([]))\n"
      ]
    },
    {
      "cell_type": "markdown",
      "id": "22b02450-d3c9-48fe-8c5a-35a0f07b7fba",
      "metadata": {
        "id": "22b02450-d3c9-48fe-8c5a-35a0f07b7fba"
      },
      "source": [
        "**Q3** Implement the function `contains_duplicate(words)`. It takes\\\n",
        "a list of strings words and returns `True` if there are any\\\n",
        "duplicate strings in the list, and `False` otherwise."
      ]
    },
    {
      "cell_type": "code",
      "execution_count": null,
      "id": "035d0bcd-67d5-4754-bae6-52d0bfa951ef",
      "metadata": {
        "colab": {
          "base_uri": "https://localhost:8080/"
        },
        "id": "035d0bcd-67d5-4754-bae6-52d0bfa951ef",
        "outputId": "66988c48-ca82-4b8c-8c3a-adeb1e889180"
      },
      "outputs": [
        {
          "output_type": "stream",
          "name": "stdout",
          "text": [
            "True\n",
            "False\n",
            "True\n",
            "False\n"
          ]
        }
      ],
      "source": [
        "#your code here\n",
        "def contains_duplicate(words):\n",
        "  list_to_set = set(words)\n",
        "  set_length = len(list_to_set)\n",
        "  list_length = len(words)\n",
        "\n",
        "  if list_length > set_length:\n",
        "    return True\n",
        "  else:\n",
        "    return False\n",
        "\n",
        "# do not modify code below this line\n",
        "print(contains_duplicate([\"hello\", \"world\", \"hello\"]))\n",
        "print(contains_duplicate([\"hello\", \"world\", \"i\", \"am\", \"great\"]))\n",
        "print(contains_duplicate([\"hello\", \"hello\", \"hello\"]))\n",
        "print(contains_duplicate([\"Hello\", \"hellooo\", \"hello\"]))\n"
      ]
    }
  ],
  "metadata": {
    "kernelspec": {
      "display_name": "Python 3 (ipykernel)",
      "language": "python",
      "name": "python3"
    },
    "language_info": {
      "codemirror_mode": {
        "name": "ipython",
        "version": 3
      },
      "file_extension": ".py",
      "mimetype": "text/x-python",
      "name": "python",
      "nbconvert_exporter": "python",
      "pygments_lexer": "ipython3",
      "version": "3.11.4"
    },
    "colab": {
      "provenance": [],
      "include_colab_link": true
    }
  },
  "nbformat": 4,
  "nbformat_minor": 5
}
