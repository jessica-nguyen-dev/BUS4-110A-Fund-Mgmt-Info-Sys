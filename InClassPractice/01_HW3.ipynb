{
  "cells": [
    {
      "cell_type": "markdown",
      "id": "bfb71530-eb63-4a5e-b621-f07eaf42f9ce",
      "metadata": {
        "id": "bfb71530-eb63-4a5e-b621-f07eaf42f9ce"
      },
      "source": [
        "Q1: In the code, we are calling two functions, greet() and say_goodbye().\n",
        "\n",
        "- The greet() function is already defined but it has a bug. It should print \"Hello, World!\".\n",
        "- The say_goodbye() function is not defined. Define it so that it prints \"Goodbye, World!\"."
      ]
    },
    {
      "cell_type": "code",
      "execution_count": 2,
      "id": "1ea6aa4d-9282-4318-8872-d6ef5d18278c",
      "metadata": {
        "colab": {
          "base_uri": "https://localhost:8080/"
        },
        "id": "1ea6aa4d-9282-4318-8872-d6ef5d18278c",
        "outputId": "fdebd3aa-0721-4f7d-87e9-cead23b5f166"
      },
      "outputs": [
        {
          "output_type": "stream",
          "name": "stdout",
          "text": [
            "Hello, World!\n",
            "Goodbye, World!\n"
          ]
        }
      ],
      "source": [
        "def greet():\n",
        "    print(\"Hello, World!\")\n",
        "\n",
        "def say_goodbye():\n",
        "    print(\"Goodbye, World!\")\n",
        "\n",
        "# don't modify below this line\n",
        "greet()\n",
        "say_goodbye()"
      ]
    },
    {
      "cell_type": "markdown",
      "id": "a0529f6e-7125-4d0d-baa7-d2175b7c6761",
      "metadata": {
        "id": "a0529f6e-7125-4d0d-baa7-d2175b7c6761"
      },
      "source": [
        "Q2: There is a bug in the code below. Can you fix it so that the output is:\n",
        "\n",
        "```\n",
        "\n",
        "10\n",
        "\n",
        "20\n",
        "\n",
        "```"
      ]
    },
    {
      "cell_type": "code",
      "execution_count": 4,
      "id": "6cf7c778-c093-4e4b-a4d2-98f776752d5b",
      "metadata": {
        "colab": {
          "base_uri": "https://localhost:8080/"
        },
        "id": "6cf7c778-c093-4e4b-a4d2-98f776752d5b",
        "outputId": "bc3e1d28-5e26-4d01-c252-a9097d10c7ce"
      },
      "outputs": [
        {
          "output_type": "stream",
          "name": "stdout",
          "text": [
            "10\n",
            "20\n"
          ]
        }
      ],
      "source": [
        "def print_number(k):\n",
        "     print(k)\n",
        "\n",
        "print_number(10)\n",
        "print_number(20)"
      ]
    },
    {
      "cell_type": "markdown",
      "id": "928f9aaf-b5c1-4d9c-97eb-19cd5c8c070e",
      "metadata": {
        "id": "928f9aaf-b5c1-4d9c-97eb-19cd5c8c070e"
      },
      "source": [
        "Q3: n the code, define a function called farewell, which takes a single parameter. The function should print \"Goodbye, \" followed by the parameter. Then use this function so that the output is:\n",
        "\n",
        "```\n",
        "\n",
        "Goodbye, Bob\n",
        "\n",
        "Goodbye, Charlie\n",
        "\n",
        "Goodbye, Lisa\n",
        "\n",
        "```"
      ]
    },
    {
      "cell_type": "code",
      "execution_count": 7,
      "id": "ee47b876-4e76-40e2-b88c-c4c5ec28178f",
      "metadata": {
        "colab": {
          "base_uri": "https://localhost:8080/"
        },
        "id": "ee47b876-4e76-40e2-b88c-c4c5ec28178f",
        "outputId": "37465bb7-9fc8-475e-baff-550beed382d3"
      },
      "outputs": [
        {
          "output_type": "stream",
          "name": "stdout",
          "text": [
            "Goodbye, Bob\n",
            "Goodbye, Charlie\n",
            "Goodbye, Lisa\n"
          ]
        }
      ],
      "source": [
        "def farewell(name):\n",
        "  farewell_message = \"Goodbye, \" + name\n",
        "  print(farewell_message)\n",
        "\n",
        "farewell(\"Bob\")\n",
        "farewell(\"Charlie\")\n",
        "\n",
        "# don't modify below this line\n",
        "farewell(\"Lisa\")"
      ]
    },
    {
      "cell_type": "markdown",
      "id": "9b180cd2-610d-4b6e-884a-adb15f21920b",
      "metadata": {
        "id": "9b180cd2-610d-4b6e-884a-adb15f21920b"
      },
      "source": [
        "Q4: In the code, define two functions, two_sum, and three_sum. The two_sum  function should take two parameters and print their sum. The three_sum function should take three parameters and print their sum.\n",
        "Finally, call two_sum with the arguments 7, 10 and after that call three_sum with the arguments 3, 5, 8."
      ]
    },
    {
      "cell_type": "code",
      "execution_count": 8,
      "id": "531adc5a-c425-4c1f-a727-7cc99832bf0c",
      "metadata": {
        "colab": {
          "base_uri": "https://localhost:8080/"
        },
        "id": "531adc5a-c425-4c1f-a727-7cc99832bf0c",
        "outputId": "e88abb62-61a2-4b20-cfdf-751558e0edda"
      },
      "outputs": [
        {
          "output_type": "stream",
          "name": "stdout",
          "text": [
            "17\n",
            "16\n",
            "19\n",
            "25\n"
          ]
        }
      ],
      "source": [
        "def two_sum(a,b):\n",
        "  sum=a+b\n",
        "  print(sum)\n",
        "\n",
        "def three_sum(a,b,c):\n",
        "  sum=a+b+c\n",
        "  print(sum)\n",
        "\n",
        "two_sum(7,10)\n",
        "three_sum(3,5,8)\n",
        "\n",
        "# do not modify below this line\n",
        "two_sum(10, 9)\n",
        "three_sum(5, 14, 6)"
      ]
    },
    {
      "cell_type": "markdown",
      "id": "cae35427-ef30-446b-9e98-29dcc439abab",
      "metadata": {
        "id": "cae35427-ef30-446b-9e98-29dcc439abab"
      },
      "source": [
        "Q5: In the code create a function named product that accepts two parameters and returns their product."
      ]
    },
    {
      "cell_type": "code",
      "execution_count": 9,
      "id": "f8989129-9ea0-4011-9d0f-d0ce04ceac6c",
      "metadata": {
        "colab": {
          "base_uri": "https://localhost:8080/"
        },
        "id": "f8989129-9ea0-4011-9d0f-d0ce04ceac6c",
        "outputId": "023bcb90-1e02-4624-a2a1-4aa9f96ae540"
      },
      "outputs": [
        {
          "output_type": "stream",
          "name": "stdout",
          "text": [
            "8\n",
            "16\n",
            "32\n",
            "64\n"
          ]
        }
      ],
      "source": [
        "def product(a, b):\n",
        "  product = a*b\n",
        "  return product\n",
        "\n",
        "# don't modify below this line\n",
        "print(product(2, 4))\n",
        "print(product(8, 2))\n",
        "print(product(4, 8))\n",
        "print(product(8, 8))"
      ]
    },
    {
      "cell_type": "markdown",
      "id": "19c44087-dab7-4771-80f4-a3239ec88546",
      "metadata": {
        "id": "19c44087-dab7-4771-80f4-a3239ec88546"
      },
      "source": [
        "Q6: In the code, call the function greet with the argument \"Lisa\". Then print the type of the return value of the function.\n",
        "\n",
        "Hint: You can get the type of a value with the type() function."
      ]
    },
    {
      "cell_type": "code",
      "execution_count": 18,
      "id": "c160801d-3a88-4425-b2fe-4746e57ce8c4",
      "metadata": {
        "colab": {
          "base_uri": "https://localhost:8080/"
        },
        "id": "c160801d-3a88-4425-b2fe-4746e57ce8c4",
        "outputId": "0358146d-6923-4bea-f1db-d9857db1a0d9"
      },
      "outputs": [
        {
          "output_type": "stream",
          "name": "stdout",
          "text": [
            "Hello, Lisa\n",
            "<class 'NoneType'>\n"
          ]
        }
      ],
      "source": [
        "def greet(name):\n",
        "    print(\"Hello, \" + name)\n",
        "\n",
        "result = greet(\"Lisa\")\n",
        "\n",
        "print(type(result))"
      ]
    },
    {
      "cell_type": "markdown",
      "id": "c8665f62-46bb-4435-9d5e-dbe7916ccc22",
      "metadata": {
        "id": "c8665f62-46bb-4435-9d5e-dbe7916ccc22"
      },
      "source": [
        "Q7: To prove that the variable k inside the function is different than the one outside, consider this code:\n",
        "\n",
        "```\n",
        "\n",
        "def add_one(k):\n",
        "\n",
        "    k = k + 1\n",
        "\n",
        "     print(k)   \n",
        "\n",
        "k = 10\n",
        "\n",
        "add_one(k)    # Output: 11\n",
        "\n",
        "print(k)       # Output: ?\n",
        "\n",
        "```\n",
        "\n",
        "What do you think the output of the last print statement will be? Will it be 10 or 11? Run the code  to find out.\n",
        "\n"
      ]
    },
    {
      "cell_type": "code",
      "execution_count": 19,
      "id": "60545600-0a07-464b-a6b1-1e07471a9d57",
      "metadata": {
        "colab": {
          "base_uri": "https://localhost:8080/"
        },
        "id": "60545600-0a07-464b-a6b1-1e07471a9d57",
        "outputId": "3647e9d0-1076-4fe0-95f9-e3149fcd0a86"
      },
      "outputs": [
        {
          "output_type": "stream",
          "name": "stdout",
          "text": [
            "11\n",
            "10\n"
          ]
        }
      ],
      "source": [
        "# I think the output of the last print statement will be 10\n",
        "\n",
        "\n",
        "\n",
        "def add_one(k):\n",
        "    k = k + 1\n",
        "    print(k)\n",
        "\n",
        "k = 10\n",
        "\n",
        "add_one(k)    # Output: 11\n",
        "\n",
        "print(k)       # Output: 10\n"
      ]
    },
    {
      "cell_type": "markdown",
      "id": "05914842-e37f-499c-8b32-931a4923e7cc",
      "metadata": {
        "id": "05914842-e37f-499c-8b32-931a4923e7cc"
      },
      "source": [
        "Q8: There's a bug in the code below, if you try to run it you'll see a NameError. Can you fix it so that the output is:\n",
        "\n",
        "```\n",
        "\n",
        "100\n",
        "\n",
        "100\n",
        "\n",
        "```"
      ]
    },
    {
      "cell_type": "code",
      "execution_count": 22,
      "id": "1e2b098f-cbfd-414e-9d61-1f525f449411",
      "metadata": {
        "colab": {
          "base_uri": "https://localhost:8080/"
        },
        "id": "1e2b098f-cbfd-414e-9d61-1f525f449411",
        "outputId": "0bad401f-cca9-4592-c94c-c702d25ae521"
      },
      "outputs": [
        {
          "output_type": "stream",
          "name": "stdout",
          "text": [
            "100\n",
            "100\n"
          ]
        }
      ],
      "source": [
        "k = 100\n",
        "\n",
        "\n",
        "def print_local_variable(num) :\n",
        "    print(num)\n",
        "\n",
        "print_local_variable(k)\n",
        "\n",
        "print(k)"
      ]
    },
    {
      "cell_type": "markdown",
      "id": "bc794b0c-786a-41bc-85b7-32b5b1a9d2d5",
      "metadata": {
        "id": "bc794b0c-786a-41bc-85b7-32b5b1a9d2d5"
      },
      "source": [
        "Q9: In the code below, update the function greet() so that the second parameter has a default value of \"!\"."
      ]
    },
    {
      "cell_type": "code",
      "execution_count": 23,
      "id": "06b8464d-a132-47b1-ba4d-70e206feb130",
      "metadata": {
        "colab": {
          "base_uri": "https://localhost:8080/"
        },
        "id": "06b8464d-a132-47b1-ba4d-70e206feb130",
        "outputId": "ad0b0574-399d-4682-94b1-8e29aebb7987"
      },
      "outputs": [
        {
          "output_type": "stream",
          "name": "stdout",
          "text": [
            "Hello, World!\n",
            "Hello, World!\n"
          ]
        }
      ],
      "source": [
        "def greet(name, punctuation='!') :\n",
        "    print(\"Hello, \" + name + punctuation)\n",
        "\n",
        "greet(\"World\", \"!\")\n",
        "greet(\"World\")"
      ]
    }
  ],
  "metadata": {
    "kernelspec": {
      "display_name": "Python 3 (ipykernel)",
      "language": "python",
      "name": "python3"
    },
    "language_info": {
      "codemirror_mode": {
        "name": "ipython",
        "version": 3
      },
      "file_extension": ".py",
      "mimetype": "text/x-python",
      "name": "python",
      "nbconvert_exporter": "python",
      "pygments_lexer": "ipython3",
      "version": "3.11.4"
    },
    "colab": {
      "provenance": []
    }
  },
  "nbformat": 4,
  "nbformat_minor": 5
}