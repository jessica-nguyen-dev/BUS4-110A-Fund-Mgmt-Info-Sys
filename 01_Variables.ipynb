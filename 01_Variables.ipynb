{
  "cells": [
    {
      "cell_type": "markdown",
      "metadata": {
        "id": "view-in-github",
        "colab_type": "text"
      },
      "source": [
        "<a href=\"https://colab.research.google.com/github/jessica-nguyen-dev/BUS4-110A-Fund-Mgmt-Info-Sys/blob/main/01_Variables.ipynb\" target=\"_parent\"><img src=\"https://colab.research.google.com/assets/colab-badge.svg\" alt=\"Open In Colab\"/></a>"
      ]
    },
    {
      "cell_type": "markdown",
      "id": "24788e0b-6e42-4579-ae82-74b9f85bc611",
      "metadata": {
        "id": "24788e0b-6e42-4579-ae82-74b9f85bc611"
      },
      "source": [
        "Variable Declaration\n",
        "\n",
        "Earlier we printed the `\"Hello, world!\"` string to the console.\\\n",
        "After it was printed we couldn't reuse that string,\\\n",
        "unless we retyped it all out from scratch, as shown below:"
      ]
    },
    {
      "cell_type": "code",
      "execution_count": null,
      "id": "e10d8fa9-9af8-4c1d-953d-74479d4144c1",
      "metadata": {
        "tags": [],
        "id": "e10d8fa9-9af8-4c1d-953d-74479d4144c1",
        "outputId": "74f8ac47-85f5-4afc-da56-7ba23ec0ecd4"
      },
      "outputs": [
        {
          "name": "stdout",
          "output_type": "stream",
          "text": [
            "Hello, world!\n",
            "Hello, world!\n"
          ]
        }
      ],
      "source": [
        "print(\"Hello, world!\")\n",
        "print(\"Hello, world!\")\n"
      ]
    },
    {
      "cell_type": "markdown",
      "id": "a0a3b144-839e-4d75-9bbd-b6db68b87e73",
      "metadata": {
        "tags": [],
        "id": "a0a3b144-839e-4d75-9bbd-b6db68b87e73"
      },
      "source": [
        "But what if we wanted to use that string multiple times in our code?\\\n",
        "This is where variables come in. With the following code, we can store\n",
        "the string in a variable and print it multiple times:\n",
        "\n"
      ]
    },
    {
      "cell_type": "code",
      "execution_count": null,
      "id": "4e0594e2-c316-426a-89c6-745766e43dcd",
      "metadata": {
        "tags": [],
        "id": "4e0594e2-c316-426a-89c6-745766e43dcd",
        "outputId": "fa9c2915-c5bc-4e8e-9c26-6dbf997544d7"
      },
      "outputs": [
        {
          "name": "stdout",
          "output_type": "stream",
          "text": [
            "Hello, world!\n",
            "Hello, world!\n"
          ]
        }
      ],
      "source": [
        "message = \"Hello, world!\"\n",
        "print(message)\n",
        "print(message)"
      ]
    },
    {
      "cell_type": "code",
      "execution_count": null,
      "id": "05bd8bc1-c50c-4ce2-8cba-dd6af1fcb5cf",
      "metadata": {
        "tags": [],
        "id": "05bd8bc1-c50c-4ce2-8cba-dd6af1fcb5cf",
        "colab": {
          "base_uri": "https://localhost:8080/",
          "height": 35
        },
        "outputId": "ee9cfe45-4ac9-41a7-bd67-829705527ea2"
      },
      "outputs": [
        {
          "output_type": "execute_result",
          "data": {
            "text/plain": [
              "'Python'"
            ],
            "application/vnd.google.colaboratory.intrinsic+json": {
              "type": "string"
            }
          },
          "metadata": {},
          "execution_count": 3
        }
      ],
      "source": [
        "message2 = \"Python\"\n",
        "message2"
      ]
    },
    {
      "cell_type": "code",
      "execution_count": null,
      "id": "df21196d-62e4-4057-b615-4f6803aebf5f",
      "metadata": {
        "tags": [],
        "id": "df21196d-62e4-4057-b615-4f6803aebf5f",
        "outputId": "84292ce2-4910-43fb-937c-5cd88c3ac273",
        "colab": {
          "base_uri": "https://localhost:8080/",
          "height": 141
        }
      },
      "outputs": [
        {
          "output_type": "error",
          "ename": "NameError",
          "evalue": "name 'message2' is not defined",
          "traceback": [
            "\u001b[0;31m---------------------------------------------------------------------------\u001b[0m",
            "\u001b[0;31mNameError\u001b[0m                                 Traceback (most recent call last)",
            "\u001b[0;32m<ipython-input-1-d301b38c07b7>\u001b[0m in \u001b[0;36m<cell line: 1>\u001b[0;34m()\u001b[0m\n\u001b[0;32m----> 1\u001b[0;31m \u001b[0mmessage2\u001b[0m\u001b[0;34m\u001b[0m\u001b[0;34m\u001b[0m\u001b[0m\n\u001b[0m",
            "\u001b[0;31mNameError\u001b[0m: name 'message2' is not defined"
          ]
        }
      ],
      "source": [
        "message2"
      ]
    },
    {
      "cell_type": "code",
      "execution_count": null,
      "id": "cbb7b58d-58fb-48e5-944e-bcbb4803b02b",
      "metadata": {
        "tags": [],
        "id": "cbb7b58d-58fb-48e5-944e-bcbb4803b02b",
        "outputId": "9f47387a-7f79-44cd-dc59-54385b5290f9"
      },
      "outputs": [
        {
          "name": "stdout",
          "output_type": "stream",
          "text": [
            "Python\n"
          ]
        }
      ],
      "source": [
        "print(message2)"
      ]
    },
    {
      "cell_type": "code",
      "execution_count": null,
      "id": "955941a2-2761-4e23-985d-281d9b7446c1",
      "metadata": {
        "id": "955941a2-2761-4e23-985d-281d9b7446c1"
      },
      "outputs": [],
      "source": []
    },
    {
      "cell_type": "markdown",
      "id": "49fd635c-b7ca-424e-a7f5-d2a639871965",
      "metadata": {
        "id": "49fd635c-b7ca-424e-a7f5-d2a639871965"
      },
      "source": [
        "Notice that we don't have double quotes around `message`.\\\n",
        "If we did, Python would think we're trying to print the string `\"message\"`\\\n",
        "instead of the value stored in the variable message."
      ]
    },
    {
      "cell_type": "markdown",
      "id": "78e7ea9a-cf2a-456a-b68b-52a59cc95537",
      "metadata": {
        "id": "78e7ea9a-cf2a-456a-b68b-52a59cc95537"
      },
      "source": [
        "Variable Naming\n",
        "\n",
        "Previously we named our string variable `message`. The name of a variable\\\n",
        "is how we can refer to it in our code. This means we can't have two different\\\n",
        "variables with the same name.\n",
        "\n",
        "If we wanted a variable to store the capital of the United Kingdom, we could name it `capital_of_uk`.\\\n",
        "This is a good name because it is descriptive and easy to understand."
      ]
    },
    {
      "cell_type": "code",
      "execution_count": null,
      "id": "fbe4c95d-4d42-4d7e-800e-937d1d58251a",
      "metadata": {
        "tags": [],
        "id": "fbe4c95d-4d42-4d7e-800e-937d1d58251a",
        "outputId": "fd0e41f9-a31c-4b13-87d0-c5d046336573"
      },
      "outputs": [
        {
          "name": "stdout",
          "output_type": "stream",
          "text": [
            "London\n"
          ]
        }
      ],
      "source": [
        "capital_of_uk = \"London\"\n",
        "print(capital_of_uk)\n"
      ]
    },
    {
      "cell_type": "code",
      "execution_count": null,
      "id": "c8ebd5ac-88bb-489a-ba74-0703c0cddc23",
      "metadata": {
        "tags": [],
        "id": "c8ebd5ac-88bb-489a-ba74-0703c0cddc23"
      },
      "outputs": [],
      "source": [
        "message_given = 'message'"
      ]
    },
    {
      "cell_type": "markdown",
      "id": "56a89cfb-7ac9-45eb-9e29-6329f5c79d75",
      "metadata": {
        "id": "56a89cfb-7ac9-45eb-9e29-6329f5c79d75"
      },
      "source": [
        "There are some strict rules for naming variables,\\\n",
        "if you break any of these rules it will cause an error:\n",
        "\n",
        "- Variable names can only contain letters, numbers, and underscores.\n",
        "- Variable names can't start with a number.\n",
        "- Variable names can't contain spaces.\n",
        "- Variable names can't be the same as Python keywords like `for`, `if`, (we will learn more about these later)."
      ]
    },
    {
      "cell_type": "markdown",
      "id": "2de6e65b-e487-46bd-8c74-816239ad2efd",
      "metadata": {
        "id": "2de6e65b-e487-46bd-8c74-816239ad2efd"
      },
      "source": [
        "The names we give our variables are important. They should be\\\n",
        "descriptive and easy to understand. This makes our code easier\\\n",
        "to read and maintain. In large code bases, you may easily forget\\\n",
        "what a variable does if it has a poor name.\n",
        "\n",
        "This sounds easy to do, but in practice giving variables good names\\\n",
        "can be difficult. It's a skill that comes with practice."
      ]
    },
    {
      "cell_type": "markdown",
      "id": "96794ca1-3ac6-486f-9794-0a544e2cda6c",
      "metadata": {
        "id": "96794ca1-3ac6-486f-9794-0a544e2cda6c"
      },
      "source": [
        "Reassigning Variables\n",
        "\n",
        "We mentioned earlier that two variables can not\\\n",
        "have the same name. So what do you think the following code will do?"
      ]
    },
    {
      "cell_type": "code",
      "execution_count": null,
      "id": "55123a35-77c7-4aa0-8829-c3dfa2bcdc8b",
      "metadata": {
        "tags": [],
        "id": "55123a35-77c7-4aa0-8829-c3dfa2bcdc8b",
        "outputId": "818a0d85-4e0a-4833-859d-fff993338c36"
      },
      "outputs": [
        {
          "name": "stdout",
          "output_type": "stream",
          "text": [
            "The first message\n",
            "The second message\n"
          ]
        }
      ],
      "source": [
        "message = \"The first message\"\n",
        "print(message)\n",
        "message = \"The second message\"\n",
        "print(message)\n"
      ]
    },
    {
      "cell_type": "code",
      "execution_count": null,
      "id": "8e874680-b531-4a73-ba57-b93c9a83fb3e",
      "metadata": {
        "id": "8e874680-b531-4a73-ba57-b93c9a83fb3e"
      },
      "outputs": [],
      "source": []
    },
    {
      "cell_type": "markdown",
      "id": "d58d9396-e64e-4af2-9a1c-cf7419799051",
      "metadata": {
        "id": "d58d9396-e64e-4af2-9a1c-cf7419799051"
      },
      "source": [
        "This is because variables can change their value.\\\n",
        "This is called reassigning a variable. `message` was\\\n",
        "first assigned the value `\"The first message\"`, but\\\n",
        "then it was reassigned the value `\"The second message\"`.\n",
        "\n",
        "If we had reordered the statements like this:"
      ]
    },
    {
      "cell_type": "code",
      "execution_count": null,
      "id": "dde680d1-4485-438d-9c38-dd16133342a8",
      "metadata": {
        "tags": [],
        "id": "dde680d1-4485-438d-9c38-dd16133342a8",
        "outputId": "0dd4f27a-d1d8-45d2-e617-20abbd9be8fd"
      },
      "outputs": [
        {
          "name": "stdout",
          "output_type": "stream",
          "text": [
            "The first message\n"
          ]
        }
      ],
      "source": [
        "message = \"The first message\"\n",
        "print(message)\n",
        "message = \"The second message\"\n"
      ]
    },
    {
      "cell_type": "markdown",
      "id": "4c4dd28a-3edb-40a8-afa0-276c5e1dd91e",
      "metadata": {
        "id": "4c4dd28a-3edb-40a8-afa0-276c5e1dd91e"
      },
      "source": [
        "Multiple Assignments\n",
        "\n",
        "Python allows you to assign multiple variables\\\n",
        "in a single line. Just separate the variables\\\n",
        "with a comma, and the right-hand side values with a comma as well."
      ]
    },
    {
      "cell_type": "code",
      "execution_count": null,
      "id": "4abdb55e-ddd5-4cf0-938c-7f284acf002e",
      "metadata": {
        "tags": [],
        "id": "4abdb55e-ddd5-4cf0-938c-7f284acf002e"
      },
      "outputs": [],
      "source": [
        "msg1, msg2 = \"Hello\", \"World\"\n"
      ]
    },
    {
      "cell_type": "markdown",
      "id": "ea80b889-e483-4f49-be4c-916b64e18d2c",
      "metadata": {
        "id": "ea80b889-e483-4f49-be4c-916b64e18d2c"
      },
      "source": [
        "is equivalent to:"
      ]
    },
    {
      "cell_type": "code",
      "execution_count": null,
      "id": "0fd5a16a-e6f2-42b3-8953-87b0036f2be7",
      "metadata": {
        "tags": [],
        "id": "0fd5a16a-e6f2-42b3-8953-87b0036f2be7"
      },
      "outputs": [],
      "source": [
        "msg1 = \"Hello\"\n",
        "msg2 = \"World\"\n"
      ]
    },
    {
      "cell_type": "markdown",
      "id": "bd92e24a-f279-4d98-ad38-770eb704e66b",
      "metadata": {
        "id": "bd92e24a-f279-4d98-ad38-770eb704e66b"
      },
      "source": [
        "This example shows two variables being assigned values in one line,\\\n",
        "but we can assign more than two if we want.\n",
        "\n",
        "We can also use this to swap the values of variables:"
      ]
    },
    {
      "cell_type": "code",
      "execution_count": null,
      "id": "3ed1f762-76de-44d9-b037-fdec1dd48f76",
      "metadata": {
        "tags": [],
        "id": "3ed1f762-76de-44d9-b037-fdec1dd48f76"
      },
      "outputs": [],
      "source": [
        "msg1, msg2 = \"Hello\", \"World\" # msg1 = \"Hello\", msg2 = \"World\"\n",
        "\n"
      ]
    },
    {
      "cell_type": "code",
      "execution_count": null,
      "id": "20710ca8-d916-4f69-9e2a-7194d808aaeb",
      "metadata": {
        "tags": [],
        "id": "20710ca8-d916-4f69-9e2a-7194d808aaeb",
        "outputId": "8340eb6a-448d-4e07-a967-ce1fdf4fddac"
      },
      "outputs": [
        {
          "name": "stdout",
          "output_type": "stream",
          "text": [
            "msg1 is: Hello\n",
            "msg2 is: World\n"
          ]
        }
      ],
      "source": [
        "print(\"msg1 is:\",msg1)\n",
        "print(\"msg2 is:\",msg2)"
      ]
    },
    {
      "cell_type": "code",
      "execution_count": null,
      "id": "793436a0-83ff-49ec-89c5-3fe42f2aeb47",
      "metadata": {
        "tags": [],
        "id": "793436a0-83ff-49ec-89c5-3fe42f2aeb47"
      },
      "outputs": [],
      "source": [
        "msg1, msg2 = msg2, msg1       # msg1 = \"World\", msg2 = \"Hello\""
      ]
    },
    {
      "cell_type": "code",
      "execution_count": null,
      "id": "5a2e5848-3499-45c0-afcb-655abfb47c3d",
      "metadata": {
        "tags": [],
        "id": "5a2e5848-3499-45c0-afcb-655abfb47c3d",
        "colab": {
          "base_uri": "https://localhost:8080/",
          "height": 176
        },
        "outputId": "dcb35d45-67a3-4a87-ed95-49800dcae142"
      },
      "outputs": [
        {
          "output_type": "error",
          "ename": "NameError",
          "evalue": "name 'msg1' is not defined",
          "traceback": [
            "\u001b[0;31m---------------------------------------------------------------------------\u001b[0m",
            "\u001b[0;31mNameError\u001b[0m                                 Traceback (most recent call last)",
            "\u001b[0;32m<ipython-input-4-ac49dffcd285>\u001b[0m in \u001b[0;36m<cell line: 1>\u001b[0;34m()\u001b[0m\n\u001b[0;32m----> 1\u001b[0;31m \u001b[0mtemp\u001b[0m\u001b[0;34m=\u001b[0m\u001b[0mmsg1\u001b[0m\u001b[0;34m\u001b[0m\u001b[0;34m\u001b[0m\u001b[0m\n\u001b[0m\u001b[1;32m      2\u001b[0m \u001b[0mmsg1\u001b[0m\u001b[0;34m=\u001b[0m\u001b[0mmsg2\u001b[0m\u001b[0;34m\u001b[0m\u001b[0;34m\u001b[0m\u001b[0m\n\u001b[1;32m      3\u001b[0m \u001b[0mmsg2\u001b[0m\u001b[0;34m=\u001b[0m\u001b[0mtemp\u001b[0m\u001b[0;34m\u001b[0m\u001b[0;34m\u001b[0m\u001b[0m\n",
            "\u001b[0;31mNameError\u001b[0m: name 'msg1' is not defined"
          ]
        }
      ],
      "source": [
        "temp=msg1\n",
        "msg1=msg2\n",
        "msg2=temp"
      ]
    },
    {
      "cell_type": "code",
      "execution_count": null,
      "id": "4dd89487-8408-4663-a033-c59391a423ea",
      "metadata": {
        "tags": [],
        "id": "4dd89487-8408-4663-a033-c59391a423ea",
        "outputId": "9ca6010c-7a23-4149-b052-f4686d8b5fe9"
      },
      "outputs": [
        {
          "name": "stdout",
          "output_type": "stream",
          "text": [
            "msg1 is: Hello\n",
            "msg2 is: World\n"
          ]
        }
      ],
      "source": [
        "print(\"msg1 is:\",msg1)\n",
        "print(\"msg2 is:\",msg2)"
      ]
    },
    {
      "cell_type": "markdown",
      "id": "0ef19c3f-32d2-4cc9-80d5-9170b5685f96",
      "metadata": {
        "id": "0ef19c3f-32d2-4cc9-80d5-9170b5685f96"
      },
      "source": [
        "Variable Types\n",
        "\n",
        "So far we've only learned about strings. But variables\\\n",
        "in Python can hold different types of data, such as `integers`, \\\n",
        "`decimal numbers` (aka `floating-point` numbers), `strings`, `booleans`,\\\n",
        "`lists`, and more. You will learn more about these later."
      ]
    },
    {
      "cell_type": "code",
      "execution_count": null,
      "id": "37af9b12-bba4-4cee-b29b-fc8961f1724a",
      "metadata": {
        "tags": [],
        "id": "37af9b12-bba4-4cee-b29b-fc8961f1724a"
      },
      "outputs": [],
      "source": [
        "age = 25             # integer\n",
        "temperature = 98.6   # floating-point number\n",
        "is_true = True       # boolean\n",
        "name = \"Alice\"       # string\n",
        "my_list = [1, 2, 3]  # list\n"
      ]
    },
    {
      "cell_type": "markdown",
      "id": "56cc6ebb-2820-4ff4-9528-4d646c164c18",
      "metadata": {
        "id": "56cc6ebb-2820-4ff4-9528-4d646c164c18"
      },
      "source": [
        "To briefly explain the code above:\n",
        "\n",
        "- A variable is an `integer` type when it holds a whole number value.\n",
        "- A variable is a `floating-point number` type when it holds a decimal number value.\n",
        "- A variable is a `boolean` type when it holds a True or False value.\n",
        "- A variable is a `string` type when it holds a sequence of characters, inside quotes.\n",
        "- A variable is a `list` type when it holds a collection of comma separated values, inside square brackets."
      ]
    },
    {
      "cell_type": "markdown",
      "id": "9b3b686c-59d7-45ca-856e-360acccd1a8a",
      "metadata": {
        "id": "9b3b686c-59d7-45ca-856e-360acccd1a8a"
      },
      "source": [
        "We can print the type of a variable or value using the `type()` function in Python. For example:"
      ]
    },
    {
      "cell_type": "code",
      "execution_count": null,
      "id": "23429d9a-029a-4cac-86aa-9624b93396de",
      "metadata": {
        "tags": [],
        "id": "23429d9a-029a-4cac-86aa-9624b93396de",
        "outputId": "b363d87e-18cd-4087-83be-7d6b35e0ad56",
        "colab": {
          "base_uri": "https://localhost:8080/"
        }
      },
      "outputs": [
        {
          "output_type": "execute_result",
          "data": {
            "text/plain": [
              "int"
            ]
          },
          "metadata": {},
          "execution_count": 9
        }
      ],
      "source": [
        "type(10)"
      ]
    },
    {
      "cell_type": "code",
      "execution_count": null,
      "id": "31b866ce-be8e-4277-a1de-709481f8453f",
      "metadata": {
        "tags": [],
        "id": "31b866ce-be8e-4277-a1de-709481f8453f",
        "outputId": "6eeb0bc2-c0f3-4fb4-ba7d-b4c93182e44f",
        "colab": {
          "base_uri": "https://localhost:8080/"
        }
      },
      "outputs": [
        {
          "output_type": "stream",
          "name": "stdout",
          "text": [
            "<class 'int'>\n"
          ]
        }
      ],
      "source": [
        "print(type(10))"
      ]
    },
    {
      "cell_type": "markdown",
      "id": "3585db30-4614-4e2c-87c6-5571e907747a",
      "metadata": {
        "id": "3585db30-4614-4e2c-87c6-5571e907747a"
      },
      "source": [
        "Dynamic Typing\n",
        "\n",
        "In Python a single variable's type can change throughout the code.\\\n",
        "This is called dynamic typing. For example, the following code will run without any errors:"
      ]
    },
    {
      "cell_type": "code",
      "execution_count": null,
      "id": "7f621673-aa01-433d-aebf-7c60bbd732a7",
      "metadata": {
        "tags": [],
        "id": "7f621673-aa01-433d-aebf-7c60bbd732a7"
      },
      "outputs": [],
      "source": [
        "variable = 10         # int type\n",
        "variable = \"Hello\"    # str type\n",
        "variable = [1, 2, 3]  # list type"
      ]
    },
    {
      "cell_type": "markdown",
      "id": "ceb3925d-97fd-4e34-b4f1-fcb6753272ad",
      "metadata": {
        "id": "ceb3925d-97fd-4e34-b4f1-fcb6753272ad"
      },
      "source": [
        "Type Casting\n",
        "\n",
        "A variable in Python can be converted to a different\n",
        "type using `type casting`.\\\n",
        "For example, the following code will run without any errors:"
      ]
    },
    {
      "cell_type": "code",
      "execution_count": null,
      "id": "4ec5bd73-34b6-4aad-bd94-aa1c0c8c12f1",
      "metadata": {
        "tags": [],
        "id": "4ec5bd73-34b6-4aad-bd94-aa1c0c8c12f1",
        "outputId": "6b33a7d9-e05b-4c85-dcb4-986ed89b2606"
      },
      "outputs": [
        {
          "name": "stdout",
          "output_type": "stream",
          "text": [
            "10\n"
          ]
        }
      ],
      "source": [
        "variable = 10.9\n",
        "print(int(variable))"
      ]
    },
    {
      "cell_type": "code",
      "execution_count": null,
      "id": "1ba8295f-fc83-40d4-b7fa-bbec21a3077b",
      "metadata": {
        "tags": [],
        "id": "1ba8295f-fc83-40d4-b7fa-bbec21a3077b",
        "outputId": "f6f13346-b2dd-4267-b348-05a680f2ff97"
      },
      "outputs": [
        {
          "name": "stdout",
          "output_type": "stream",
          "text": [
            "<class 'float'>\n"
          ]
        }
      ],
      "source": [
        "print(type(variable))"
      ]
    },
    {
      "cell_type": "code",
      "execution_count": null,
      "id": "97d24045-d5d8-4381-9c54-aea90254de80",
      "metadata": {
        "tags": [],
        "id": "97d24045-d5d8-4381-9c54-aea90254de80",
        "outputId": "e311fb8c-3450-4687-c97e-2289ad86d4cb"
      },
      "outputs": [
        {
          "data": {
            "text/plain": [
              "int"
            ]
          },
          "execution_count": 28,
          "metadata": {},
          "output_type": "execute_result"
        }
      ],
      "source": [
        "type(int(variable))"
      ]
    },
    {
      "cell_type": "markdown",
      "id": "69c50f9d-f1ec-4d4d-9ec2-6d8da03fb81f",
      "metadata": {
        "id": "69c50f9d-f1ec-4d4d-9ec2-6d8da03fb81f"
      },
      "source": [
        "The variable variable is a `floating-point` number.\\\n",
        "The `int()` function converts it to an integer.\\\n",
        "The output is the integer part of the `floating-point number`,\\\n",
        "aka rounding the number down."
      ]
    },
    {
      "cell_type": "markdown",
      "id": "98e58357-9237-41a3-9c27-37acca3e5e29",
      "metadata": {
        "id": "98e58357-9237-41a3-9c27-37acca3e5e29"
      },
      "source": [
        "Type Errors\n",
        "\n",
        "Even though variable types can change, there are still\\\n",
        "rules about what types of variables can be used together.\\\n",
        "For example, the following code will cause an error:"
      ]
    },
    {
      "cell_type": "code",
      "execution_count": null,
      "id": "7e535f11-d8fa-40ad-ab50-7cd098069448",
      "metadata": {
        "tags": [],
        "id": "7e535f11-d8fa-40ad-ab50-7cd098069448",
        "outputId": "509a8769-6f14-4e37-f1ab-22db72e1d27d"
      },
      "outputs": [
        {
          "ename": "ValueError",
          "evalue": "invalid literal for int() with base 10: 'Hello'",
          "output_type": "error",
          "traceback": [
            "\u001b[0;31m---------------------------------------------------------------------------\u001b[0m",
            "\u001b[0;31mValueError\u001b[0m                                Traceback (most recent call last)",
            "Cell \u001b[0;32mIn[14], line 2\u001b[0m\n\u001b[1;32m      1\u001b[0m message \u001b[38;5;241m=\u001b[39m \u001b[38;5;124m\"\u001b[39m\u001b[38;5;124mHello\u001b[39m\u001b[38;5;124m\"\u001b[39m\n\u001b[0;32m----> 2\u001b[0m message \u001b[38;5;241m=\u001b[39m \u001b[38;5;28mint\u001b[39m(message)\n",
            "\u001b[0;31mValueError\u001b[0m: invalid literal for int() with base 10: 'Hello'"
          ]
        }
      ],
      "source": [
        "message = \"Hello\"\n",
        "message = int(message)\n"
      ]
    },
    {
      "cell_type": "code",
      "execution_count": null,
      "id": "d143ebc8-639c-433e-ad06-d5acecd562a4",
      "metadata": {
        "tags": [],
        "id": "d143ebc8-639c-433e-ad06-d5acecd562a4"
      },
      "outputs": [],
      "source": [
        "num = '2'"
      ]
    },
    {
      "cell_type": "code",
      "execution_count": null,
      "id": "b5972991-64bb-4168-ad48-c0d8d14095fc",
      "metadata": {
        "tags": [],
        "id": "b5972991-64bb-4168-ad48-c0d8d14095fc",
        "outputId": "f180b4bd-9600-4e15-dde6-b7b3a151413f"
      },
      "outputs": [
        {
          "data": {
            "text/plain": [
              "int"
            ]
          },
          "execution_count": 32,
          "metadata": {},
          "output_type": "execute_result"
        }
      ],
      "source": [
        "type(int(num))"
      ]
    },
    {
      "cell_type": "code",
      "execution_count": null,
      "id": "72566132-9177-4d32-9631-b22e7d63ab24",
      "metadata": {
        "tags": [],
        "id": "72566132-9177-4d32-9631-b22e7d63ab24",
        "outputId": "7dec84fa-3b7b-4a80-e583-6b845d4d13c1"
      },
      "outputs": [
        {
          "data": {
            "text/plain": [
              "str"
            ]
          },
          "execution_count": 30,
          "metadata": {},
          "output_type": "execute_result"
        }
      ],
      "source": [
        "type(num)"
      ]
    },
    {
      "cell_type": "markdown",
      "id": "1a3f8200-5f18-4ce5-b77b-29e2e62044e1",
      "metadata": {
        "id": "1a3f8200-5f18-4ce5-b77b-29e2e62044e1"
      },
      "source": [
        "Empty Variable\n",
        "\n",
        "If we want to declare a variable without a value,\\\n",
        "we can use the `None` keyword. This is used to indicate\\\n",
        "that the variable has no value.\n",
        "\n",
        "If we try to declare a variable without explicity assigning a value to it, we will get an error."
      ]
    },
    {
      "cell_type": "code",
      "execution_count": null,
      "id": "70c9406c-5d63-450a-b9ca-b38e17001192",
      "metadata": {
        "tags": [],
        "id": "70c9406c-5d63-450a-b9ca-b38e17001192",
        "outputId": "0f8e7250-0a92-4fd0-d5fb-5d8f4ad4de86"
      },
      "outputs": [
        {
          "ename": "NameError",
          "evalue": "name 'var' is not defined",
          "output_type": "error",
          "traceback": [
            "\u001b[0;31m---------------------------------------------------------------------------\u001b[0m",
            "\u001b[0;31mNameError\u001b[0m                                 Traceback (most recent call last)",
            "Cell \u001b[0;32mIn[15], line 1\u001b[0m\n\u001b[0;32m----> 1\u001b[0m var\n",
            "\u001b[0;31mNameError\u001b[0m: name 'var' is not defined"
          ]
        }
      ],
      "source": [
        "var"
      ]
    },
    {
      "cell_type": "markdown",
      "id": "648ad1d4-572d-4717-9d9e-af50b51f1402",
      "metadata": {
        "id": "648ad1d4-572d-4717-9d9e-af50b51f1402"
      },
      "source": [
        "However, if we assign the variable to `None`, we can declare the variable without a value."
      ]
    },
    {
      "cell_type": "code",
      "execution_count": null,
      "id": "27a36236-f436-460f-8dbb-59ae9f3466f4",
      "metadata": {
        "tags": [],
        "id": "27a36236-f436-460f-8dbb-59ae9f3466f4"
      },
      "outputs": [],
      "source": [
        "var = None"
      ]
    },
    {
      "cell_type": "code",
      "execution_count": null,
      "id": "8009c045-1d7e-407a-8d83-952cfca5a4f4",
      "metadata": {
        "id": "8009c045-1d7e-407a-8d83-952cfca5a4f4"
      },
      "outputs": [],
      "source": [
        "weight_new=None"
      ]
    },
    {
      "cell_type": "code",
      "execution_count": null,
      "id": "8ca9be4b-96f3-4547-b9f0-76cd62f98538",
      "metadata": {
        "tags": [],
        "id": "8ca9be4b-96f3-4547-b9f0-76cd62f98538"
      },
      "outputs": [],
      "source": [
        "weight_new"
      ]
    },
    {
      "cell_type": "code",
      "execution_count": null,
      "id": "a89592bb-84f1-42aa-af35-fd4412c60341",
      "metadata": {
        "tags": [],
        "id": "a89592bb-84f1-42aa-af35-fd4412c60341",
        "outputId": "b2965581-679b-4ce0-ad95-afc147a7b9b5"
      },
      "outputs": [
        {
          "name": "stdout",
          "output_type": "stream",
          "text": [
            "None\n"
          ]
        }
      ],
      "source": [
        "print(None)"
      ]
    },
    {
      "cell_type": "code",
      "execution_count": null,
      "id": "3a7e27df-4a88-4227-855c-fabfd2f60939",
      "metadata": {
        "id": "3a7e27df-4a88-4227-855c-fabfd2f60939"
      },
      "outputs": [],
      "source": []
    }
  ],
  "metadata": {
    "kernelspec": {
      "display_name": "Python 3 (ipykernel)",
      "language": "python",
      "name": "python3"
    },
    "language_info": {
      "codemirror_mode": {
        "name": "ipython",
        "version": 3
      },
      "file_extension": ".py",
      "mimetype": "text/x-python",
      "name": "python",
      "nbconvert_exporter": "python",
      "pygments_lexer": "ipython3",
      "version": "3.11.4"
    },
    "colab": {
      "provenance": [],
      "include_colab_link": true
    }
  },
  "nbformat": 4,
  "nbformat_minor": 5
}